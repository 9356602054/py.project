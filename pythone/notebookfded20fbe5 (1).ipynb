{
 "cells": [
  {
   "cell_type": "code",
   "execution_count": 1,
   "id": "1494a0b7",
   "metadata": {
    "_cell_guid": "b1076dfc-b9ad-4769-8c92-a6c4dae69d19",
    "_uuid": "8f2839f25d086af736a60e9eeb907d3b93b6e0e5",
    "execution": {
     "iopub.execute_input": "2023-10-05T11:51:03.779352Z",
     "iopub.status.busy": "2023-10-05T11:51:03.778636Z",
     "iopub.status.idle": "2023-10-05T11:51:04.172566Z",
     "shell.execute_reply": "2023-10-05T11:51:04.171452Z"
    },
    "papermill": {
     "duration": 0.404388,
     "end_time": "2023-10-05T11:51:04.175170",
     "exception": false,
     "start_time": "2023-10-05T11:51:03.770782",
     "status": "completed"
    },
    "tags": []
   },
   "outputs": [],
   "source": [
    "# This Python 3 environment comes with many helpful analytics libraries installed\n",
    "# It is defined by the kaggle/python Docker image: https://github.com/kaggle/docker-python\n",
    "# For example, here's several helpful packages to load\n",
    "\n",
    "import numpy as np # linear algebra\n",
    "import pandas as pd # data processing, CSV file I/O (e.g. pd.read_csv)\n",
    "\n",
    "# Input data files are available in the read-only \"../input/\" directory\n",
    "# For example, running this (by clicking run or pressing Shift+Enter) will list all files under the input directory\n",
    "\n",
    "import os\n",
    "for dirname, _, filenames in os.walk('/kaggle/input'):\n",
    "    for filename in filenames:\n",
    "        print(os.path.join(dirname, filename))\n",
    "\n",
    "# You can write up to 20GB to the current directory (/kaggle/working/) that gets preserved as output when you create a version using \"Save & Run All\" \n",
    "# You can also write temporary files to /kaggle/temp/, but they won't be saved outside of the current session"
   ]
  },
  {
   "cell_type": "code",
   "execution_count": 2,
   "id": "6fd8f1b6",
   "metadata": {
    "execution": {
     "iopub.execute_input": "2023-10-05T11:51:04.187050Z",
     "iopub.status.busy": "2023-10-05T11:51:04.186224Z",
     "iopub.status.idle": "2023-10-05T11:51:04.191379Z",
     "shell.execute_reply": "2023-10-05T11:51:04.190204Z"
    },
    "papermill": {
     "duration": 0.013665,
     "end_time": "2023-10-05T11:51:04.193862",
     "exception": false,
     "start_time": "2023-10-05T11:51:04.180197",
     "status": "completed"
    },
    "tags": []
   },
   "outputs": [],
   "source": [
    "# Step 1 : import library\n",
    "import pandas as pd"
   ]
  },
  {
   "cell_type": "code",
   "execution_count": 3,
   "id": "3f5bf520",
   "metadata": {
    "execution": {
     "iopub.execute_input": "2023-10-05T11:51:04.205180Z",
     "iopub.status.busy": "2023-10-05T11:51:04.204780Z",
     "iopub.status.idle": "2023-10-05T11:51:04.461403Z",
     "shell.execute_reply": "2023-10-05T11:51:04.460310Z"
    },
    "papermill": {
     "duration": 0.266043,
     "end_time": "2023-10-05T11:51:04.464672",
     "exception": false,
     "start_time": "2023-10-05T11:51:04.198629",
     "status": "completed"
    },
    "tags": []
   },
   "outputs": [],
   "source": [
    "# Step 2 : import data\n",
    "fish = pd.read_csv('https://github.com/ybifoundation/Dataset/raw/main/Fish.csv')"
   ]
  },
  {
   "cell_type": "code",
   "execution_count": 4,
   "id": "b1f8098c",
   "metadata": {
    "execution": {
     "iopub.execute_input": "2023-10-05T11:51:04.476708Z",
     "iopub.status.busy": "2023-10-05T11:51:04.476109Z",
     "iopub.status.idle": "2023-10-05T11:51:04.506317Z",
     "shell.execute_reply": "2023-10-05T11:51:04.504936Z"
    },
    "papermill": {
     "duration": 0.038805,
     "end_time": "2023-10-05T11:51:04.508751",
     "exception": false,
     "start_time": "2023-10-05T11:51:04.469946",
     "status": "completed"
    },
    "tags": []
   },
   "outputs": [
    {
     "data": {
      "text/html": [
       "<div>\n",
       "<style scoped>\n",
       "    .dataframe tbody tr th:only-of-type {\n",
       "        vertical-align: middle;\n",
       "    }\n",
       "\n",
       "    .dataframe tbody tr th {\n",
       "        vertical-align: top;\n",
       "    }\n",
       "\n",
       "    .dataframe thead th {\n",
       "        text-align: right;\n",
       "    }\n",
       "</style>\n",
       "<table border=\"1\" class=\"dataframe\">\n",
       "  <thead>\n",
       "    <tr style=\"text-align: right;\">\n",
       "      <th></th>\n",
       "      <th>Category</th>\n",
       "      <th>Species</th>\n",
       "      <th>Weight</th>\n",
       "      <th>Height</th>\n",
       "      <th>Width</th>\n",
       "      <th>Length1</th>\n",
       "      <th>Length2</th>\n",
       "      <th>Length3</th>\n",
       "    </tr>\n",
       "  </thead>\n",
       "  <tbody>\n",
       "    <tr>\n",
       "      <th>0</th>\n",
       "      <td>1</td>\n",
       "      <td>Bream</td>\n",
       "      <td>242.0</td>\n",
       "      <td>11.5200</td>\n",
       "      <td>4.0200</td>\n",
       "      <td>23.2</td>\n",
       "      <td>25.4</td>\n",
       "      <td>30.0</td>\n",
       "    </tr>\n",
       "    <tr>\n",
       "      <th>1</th>\n",
       "      <td>1</td>\n",
       "      <td>Bream</td>\n",
       "      <td>290.0</td>\n",
       "      <td>12.4800</td>\n",
       "      <td>4.3056</td>\n",
       "      <td>24.0</td>\n",
       "      <td>26.3</td>\n",
       "      <td>31.2</td>\n",
       "    </tr>\n",
       "    <tr>\n",
       "      <th>2</th>\n",
       "      <td>1</td>\n",
       "      <td>Bream</td>\n",
       "      <td>340.0</td>\n",
       "      <td>12.3778</td>\n",
       "      <td>4.6961</td>\n",
       "      <td>23.9</td>\n",
       "      <td>26.5</td>\n",
       "      <td>31.1</td>\n",
       "    </tr>\n",
       "    <tr>\n",
       "      <th>3</th>\n",
       "      <td>1</td>\n",
       "      <td>Bream</td>\n",
       "      <td>363.0</td>\n",
       "      <td>12.7300</td>\n",
       "      <td>4.4555</td>\n",
       "      <td>26.3</td>\n",
       "      <td>29.0</td>\n",
       "      <td>33.5</td>\n",
       "    </tr>\n",
       "    <tr>\n",
       "      <th>4</th>\n",
       "      <td>1</td>\n",
       "      <td>Bream</td>\n",
       "      <td>430.0</td>\n",
       "      <td>12.4440</td>\n",
       "      <td>5.1340</td>\n",
       "      <td>26.5</td>\n",
       "      <td>29.0</td>\n",
       "      <td>34.0</td>\n",
       "    </tr>\n",
       "  </tbody>\n",
       "</table>\n",
       "</div>"
      ],
      "text/plain": [
       "   Category Species  Weight   Height   Width  Length1  Length2  Length3\n",
       "0         1   Bream   242.0  11.5200  4.0200     23.2     25.4     30.0\n",
       "1         1   Bream   290.0  12.4800  4.3056     24.0     26.3     31.2\n",
       "2         1   Bream   340.0  12.3778  4.6961     23.9     26.5     31.1\n",
       "3         1   Bream   363.0  12.7300  4.4555     26.3     29.0     33.5\n",
       "4         1   Bream   430.0  12.4440  5.1340     26.5     29.0     34.0"
      ]
     },
     "execution_count": 4,
     "metadata": {},
     "output_type": "execute_result"
    }
   ],
   "source": [
    "fish.head()\n"
   ]
  },
  {
   "cell_type": "code",
   "execution_count": 5,
   "id": "f3f3f708",
   "metadata": {
    "execution": {
     "iopub.execute_input": "2023-10-05T11:51:04.522101Z",
     "iopub.status.busy": "2023-10-05T11:51:04.520840Z",
     "iopub.status.idle": "2023-10-05T11:51:04.554480Z",
     "shell.execute_reply": "2023-10-05T11:51:04.553432Z"
    },
    "papermill": {
     "duration": 0.04275,
     "end_time": "2023-10-05T11:51:04.556964",
     "exception": false,
     "start_time": "2023-10-05T11:51:04.514214",
     "status": "completed"
    },
    "tags": []
   },
   "outputs": [
    {
     "name": "stdout",
     "output_type": "stream",
     "text": [
      "<class 'pandas.core.frame.DataFrame'>\n",
      "RangeIndex: 159 entries, 0 to 158\n",
      "Data columns (total 8 columns):\n",
      " #   Column    Non-Null Count  Dtype  \n",
      "---  ------    --------------  -----  \n",
      " 0   Category  159 non-null    int64  \n",
      " 1   Species   159 non-null    object \n",
      " 2   Weight    159 non-null    float64\n",
      " 3   Height    159 non-null    float64\n",
      " 4   Width     159 non-null    float64\n",
      " 5   Length1   159 non-null    float64\n",
      " 6   Length2   159 non-null    float64\n",
      " 7   Length3   159 non-null    float64\n",
      "dtypes: float64(6), int64(1), object(1)\n",
      "memory usage: 10.1+ KB\n"
     ]
    }
   ],
   "source": [
    "fish.info()\n"
   ]
  },
  {
   "cell_type": "code",
   "execution_count": 6,
   "id": "addfd7c8",
   "metadata": {
    "execution": {
     "iopub.execute_input": "2023-10-05T11:51:04.569218Z",
     "iopub.status.busy": "2023-10-05T11:51:04.568483Z",
     "iopub.status.idle": "2023-10-05T11:51:04.599691Z",
     "shell.execute_reply": "2023-10-05T11:51:04.598810Z"
    },
    "papermill": {
     "duration": 0.039589,
     "end_time": "2023-10-05T11:51:04.601716",
     "exception": false,
     "start_time": "2023-10-05T11:51:04.562127",
     "status": "completed"
    },
    "tags": []
   },
   "outputs": [
    {
     "data": {
      "text/html": [
       "<div>\n",
       "<style scoped>\n",
       "    .dataframe tbody tr th:only-of-type {\n",
       "        vertical-align: middle;\n",
       "    }\n",
       "\n",
       "    .dataframe tbody tr th {\n",
       "        vertical-align: top;\n",
       "    }\n",
       "\n",
       "    .dataframe thead th {\n",
       "        text-align: right;\n",
       "    }\n",
       "</style>\n",
       "<table border=\"1\" class=\"dataframe\">\n",
       "  <thead>\n",
       "    <tr style=\"text-align: right;\">\n",
       "      <th></th>\n",
       "      <th>Category</th>\n",
       "      <th>Weight</th>\n",
       "      <th>Height</th>\n",
       "      <th>Width</th>\n",
       "      <th>Length1</th>\n",
       "      <th>Length2</th>\n",
       "      <th>Length3</th>\n",
       "    </tr>\n",
       "  </thead>\n",
       "  <tbody>\n",
       "    <tr>\n",
       "      <th>count</th>\n",
       "      <td>159.000000</td>\n",
       "      <td>159.000000</td>\n",
       "      <td>159.000000</td>\n",
       "      <td>159.000000</td>\n",
       "      <td>159.000000</td>\n",
       "      <td>159.000000</td>\n",
       "      <td>159.000000</td>\n",
       "    </tr>\n",
       "    <tr>\n",
       "      <th>mean</th>\n",
       "      <td>3.264151</td>\n",
       "      <td>398.326415</td>\n",
       "      <td>8.970994</td>\n",
       "      <td>4.417486</td>\n",
       "      <td>26.247170</td>\n",
       "      <td>28.415723</td>\n",
       "      <td>31.227044</td>\n",
       "    </tr>\n",
       "    <tr>\n",
       "      <th>std</th>\n",
       "      <td>1.704249</td>\n",
       "      <td>357.978317</td>\n",
       "      <td>4.286208</td>\n",
       "      <td>1.685804</td>\n",
       "      <td>9.996441</td>\n",
       "      <td>10.716328</td>\n",
       "      <td>11.610246</td>\n",
       "    </tr>\n",
       "    <tr>\n",
       "      <th>min</th>\n",
       "      <td>1.000000</td>\n",
       "      <td>0.000000</td>\n",
       "      <td>1.728400</td>\n",
       "      <td>1.047600</td>\n",
       "      <td>7.500000</td>\n",
       "      <td>8.400000</td>\n",
       "      <td>8.800000</td>\n",
       "    </tr>\n",
       "    <tr>\n",
       "      <th>25%</th>\n",
       "      <td>2.000000</td>\n",
       "      <td>120.000000</td>\n",
       "      <td>5.944800</td>\n",
       "      <td>3.385650</td>\n",
       "      <td>19.050000</td>\n",
       "      <td>21.000000</td>\n",
       "      <td>23.150000</td>\n",
       "    </tr>\n",
       "    <tr>\n",
       "      <th>50%</th>\n",
       "      <td>3.000000</td>\n",
       "      <td>273.000000</td>\n",
       "      <td>7.786000</td>\n",
       "      <td>4.248500</td>\n",
       "      <td>25.200000</td>\n",
       "      <td>27.300000</td>\n",
       "      <td>29.400000</td>\n",
       "    </tr>\n",
       "    <tr>\n",
       "      <th>75%</th>\n",
       "      <td>4.500000</td>\n",
       "      <td>650.000000</td>\n",
       "      <td>12.365900</td>\n",
       "      <td>5.584500</td>\n",
       "      <td>32.700000</td>\n",
       "      <td>35.500000</td>\n",
       "      <td>39.650000</td>\n",
       "    </tr>\n",
       "    <tr>\n",
       "      <th>max</th>\n",
       "      <td>7.000000</td>\n",
       "      <td>1650.000000</td>\n",
       "      <td>18.957000</td>\n",
       "      <td>8.142000</td>\n",
       "      <td>59.000000</td>\n",
       "      <td>63.400000</td>\n",
       "      <td>68.000000</td>\n",
       "    </tr>\n",
       "  </tbody>\n",
       "</table>\n",
       "</div>"
      ],
      "text/plain": [
       "         Category       Weight      Height       Width     Length1  \\\n",
       "count  159.000000   159.000000  159.000000  159.000000  159.000000   \n",
       "mean     3.264151   398.326415    8.970994    4.417486   26.247170   \n",
       "std      1.704249   357.978317    4.286208    1.685804    9.996441   \n",
       "min      1.000000     0.000000    1.728400    1.047600    7.500000   \n",
       "25%      2.000000   120.000000    5.944800    3.385650   19.050000   \n",
       "50%      3.000000   273.000000    7.786000    4.248500   25.200000   \n",
       "75%      4.500000   650.000000   12.365900    5.584500   32.700000   \n",
       "max      7.000000  1650.000000   18.957000    8.142000   59.000000   \n",
       "\n",
       "          Length2     Length3  \n",
       "count  159.000000  159.000000  \n",
       "mean    28.415723   31.227044  \n",
       "std     10.716328   11.610246  \n",
       "min      8.400000    8.800000  \n",
       "25%     21.000000   23.150000  \n",
       "50%     27.300000   29.400000  \n",
       "75%     35.500000   39.650000  \n",
       "max     63.400000   68.000000  "
      ]
     },
     "execution_count": 6,
     "metadata": {},
     "output_type": "execute_result"
    }
   ],
   "source": [
    "fish.describe()\n"
   ]
  },
  {
   "cell_type": "code",
   "execution_count": 7,
   "id": "6e6272b1",
   "metadata": {
    "execution": {
     "iopub.execute_input": "2023-10-05T11:51:04.614879Z",
     "iopub.status.busy": "2023-10-05T11:51:04.613549Z",
     "iopub.status.idle": "2023-10-05T11:51:04.618819Z",
     "shell.execute_reply": "2023-10-05T11:51:04.617698Z"
    },
    "papermill": {
     "duration": 0.014123,
     "end_time": "2023-10-05T11:51:04.620977",
     "exception": false,
     "start_time": "2023-10-05T11:51:04.606854",
     "status": "completed"
    },
    "tags": []
   },
   "outputs": [],
   "source": [
    "# Step 3 : define target (y) and features (X)\n"
   ]
  },
  {
   "cell_type": "code",
   "execution_count": 8,
   "id": "d84f9494",
   "metadata": {
    "execution": {
     "iopub.execute_input": "2023-10-05T11:51:04.632948Z",
     "iopub.status.busy": "2023-10-05T11:51:04.632510Z",
     "iopub.status.idle": "2023-10-05T11:51:04.639946Z",
     "shell.execute_reply": "2023-10-05T11:51:04.638895Z"
    },
    "papermill": {
     "duration": 0.015914,
     "end_time": "2023-10-05T11:51:04.641973",
     "exception": false,
     "start_time": "2023-10-05T11:51:04.626059",
     "status": "completed"
    },
    "tags": []
   },
   "outputs": [
    {
     "data": {
      "text/plain": [
       "Index(['Category', 'Species', 'Weight', 'Height', 'Width', 'Length1',\n",
       "       'Length2', 'Length3'],\n",
       "      dtype='object')"
      ]
     },
     "execution_count": 8,
     "metadata": {},
     "output_type": "execute_result"
    }
   ],
   "source": [
    "fish.columns\n"
   ]
  },
  {
   "cell_type": "code",
   "execution_count": 9,
   "id": "b2127cfe",
   "metadata": {
    "execution": {
     "iopub.execute_input": "2023-10-05T11:51:04.655043Z",
     "iopub.status.busy": "2023-10-05T11:51:04.653858Z",
     "iopub.status.idle": "2023-10-05T11:51:04.659368Z",
     "shell.execute_reply": "2023-10-05T11:51:04.658178Z"
    },
    "papermill": {
     "duration": 0.014065,
     "end_time": "2023-10-05T11:51:04.661233",
     "exception": false,
     "start_time": "2023-10-05T11:51:04.647168",
     "status": "completed"
    },
    "tags": []
   },
   "outputs": [],
   "source": [
    "y = fish['Weight']\n"
   ]
  },
  {
   "cell_type": "code",
   "execution_count": 10,
   "id": "c3e90d13",
   "metadata": {
    "execution": {
     "iopub.execute_input": "2023-10-05T11:51:04.673986Z",
     "iopub.status.busy": "2023-10-05T11:51:04.673208Z",
     "iopub.status.idle": "2023-10-05T11:51:04.683233Z",
     "shell.execute_reply": "2023-10-05T11:51:04.682012Z"
    },
    "papermill": {
     "duration": 0.019285,
     "end_time": "2023-10-05T11:51:04.685662",
     "exception": false,
     "start_time": "2023-10-05T11:51:04.666377",
     "status": "completed"
    },
    "tags": []
   },
   "outputs": [],
   "source": [
    "X = fish[['Category','Height', 'Width', 'Length1',\n",
    "       'Length2', 'Length3']]\n"
   ]
  },
  {
   "cell_type": "code",
   "execution_count": 11,
   "id": "8dc60eeb",
   "metadata": {
    "execution": {
     "iopub.execute_input": "2023-10-05T11:51:04.698611Z",
     "iopub.status.busy": "2023-10-05T11:51:04.697959Z",
     "iopub.status.idle": "2023-10-05T11:51:06.105834Z",
     "shell.execute_reply": "2023-10-05T11:51:06.104456Z"
    },
    "papermill": {
     "duration": 1.417608,
     "end_time": "2023-10-05T11:51:06.108608",
     "exception": false,
     "start_time": "2023-10-05T11:51:04.691000",
     "status": "completed"
    },
    "tags": []
   },
   "outputs": [],
   "source": [
    "# Step 4 : train test split\n",
    "from sklearn.model_selection import train_test_split\n",
    "X_train, X_test, y_train, y_test = train_test_split(X,y, train_size=0.7, random_state=2529)"
   ]
  },
  {
   "cell_type": "code",
   "execution_count": 12,
   "id": "f7b13411",
   "metadata": {
    "execution": {
     "iopub.execute_input": "2023-10-05T11:51:06.121222Z",
     "iopub.status.busy": "2023-10-05T11:51:06.120728Z",
     "iopub.status.idle": "2023-10-05T11:51:06.128829Z",
     "shell.execute_reply": "2023-10-05T11:51:06.127460Z"
    },
    "papermill": {
     "duration": 0.01752,
     "end_time": "2023-10-05T11:51:06.131406",
     "exception": false,
     "start_time": "2023-10-05T11:51:06.113886",
     "status": "completed"
    },
    "tags": []
   },
   "outputs": [
    {
     "data": {
      "text/plain": [
       "((111, 6), (48, 6), (111,), (48,))"
      ]
     },
     "execution_count": 12,
     "metadata": {},
     "output_type": "execute_result"
    }
   ],
   "source": [
    "# check shape of train and test sample\n",
    "X_train.shape, X_test.shape, y_train.shape, y_test.shape\n"
   ]
  },
  {
   "cell_type": "code",
   "execution_count": 13,
   "id": "320a349c",
   "metadata": {
    "execution": {
     "iopub.execute_input": "2023-10-05T11:51:06.144934Z",
     "iopub.status.busy": "2023-10-05T11:51:06.144504Z",
     "iopub.status.idle": "2023-10-05T11:51:06.392722Z",
     "shell.execute_reply": "2023-10-05T11:51:06.391327Z"
    },
    "papermill": {
     "duration": 0.258538,
     "end_time": "2023-10-05T11:51:06.395814",
     "exception": false,
     "start_time": "2023-10-05T11:51:06.137276",
     "status": "completed"
    },
    "tags": []
   },
   "outputs": [],
   "source": [
    "# Step 5 : select model\n",
    "from sklearn.linear_model import LinearRegression\n",
    "model = LinearRegression()\n"
   ]
  },
  {
   "cell_type": "code",
   "execution_count": 14,
   "id": "af1ba35b",
   "metadata": {
    "execution": {
     "iopub.execute_input": "2023-10-05T11:51:06.409383Z",
     "iopub.status.busy": "2023-10-05T11:51:06.408937Z",
     "iopub.status.idle": "2023-10-05T11:51:06.455542Z",
     "shell.execute_reply": "2023-10-05T11:51:06.454652Z"
    },
    "papermill": {
     "duration": 0.056128,
     "end_time": "2023-10-05T11:51:06.457759",
     "exception": false,
     "start_time": "2023-10-05T11:51:06.401631",
     "status": "completed"
    },
    "tags": []
   },
   "outputs": [
    {
     "data": {
      "text/html": [
       "<style>#sk-container-id-1 {color: black;background-color: white;}#sk-container-id-1 pre{padding: 0;}#sk-container-id-1 div.sk-toggleable {background-color: white;}#sk-container-id-1 label.sk-toggleable__label {cursor: pointer;display: block;width: 100%;margin-bottom: 0;padding: 0.3em;box-sizing: border-box;text-align: center;}#sk-container-id-1 label.sk-toggleable__label-arrow:before {content: \"▸\";float: left;margin-right: 0.25em;color: #696969;}#sk-container-id-1 label.sk-toggleable__label-arrow:hover:before {color: black;}#sk-container-id-1 div.sk-estimator:hover label.sk-toggleable__label-arrow:before {color: black;}#sk-container-id-1 div.sk-toggleable__content {max-height: 0;max-width: 0;overflow: hidden;text-align: left;background-color: #f0f8ff;}#sk-container-id-1 div.sk-toggleable__content pre {margin: 0.2em;color: black;border-radius: 0.25em;background-color: #f0f8ff;}#sk-container-id-1 input.sk-toggleable__control:checked~div.sk-toggleable__content {max-height: 200px;max-width: 100%;overflow: auto;}#sk-container-id-1 input.sk-toggleable__control:checked~label.sk-toggleable__label-arrow:before {content: \"▾\";}#sk-container-id-1 div.sk-estimator input.sk-toggleable__control:checked~label.sk-toggleable__label {background-color: #d4ebff;}#sk-container-id-1 div.sk-label input.sk-toggleable__control:checked~label.sk-toggleable__label {background-color: #d4ebff;}#sk-container-id-1 input.sk-hidden--visually {border: 0;clip: rect(1px 1px 1px 1px);clip: rect(1px, 1px, 1px, 1px);height: 1px;margin: -1px;overflow: hidden;padding: 0;position: absolute;width: 1px;}#sk-container-id-1 div.sk-estimator {font-family: monospace;background-color: #f0f8ff;border: 1px dotted black;border-radius: 0.25em;box-sizing: border-box;margin-bottom: 0.5em;}#sk-container-id-1 div.sk-estimator:hover {background-color: #d4ebff;}#sk-container-id-1 div.sk-parallel-item::after {content: \"\";width: 100%;border-bottom: 1px solid gray;flex-grow: 1;}#sk-container-id-1 div.sk-label:hover label.sk-toggleable__label {background-color: #d4ebff;}#sk-container-id-1 div.sk-serial::before {content: \"\";position: absolute;border-left: 1px solid gray;box-sizing: border-box;top: 0;bottom: 0;left: 50%;z-index: 0;}#sk-container-id-1 div.sk-serial {display: flex;flex-direction: column;align-items: center;background-color: white;padding-right: 0.2em;padding-left: 0.2em;position: relative;}#sk-container-id-1 div.sk-item {position: relative;z-index: 1;}#sk-container-id-1 div.sk-parallel {display: flex;align-items: stretch;justify-content: center;background-color: white;position: relative;}#sk-container-id-1 div.sk-item::before, #sk-container-id-1 div.sk-parallel-item::before {content: \"\";position: absolute;border-left: 1px solid gray;box-sizing: border-box;top: 0;bottom: 0;left: 50%;z-index: -1;}#sk-container-id-1 div.sk-parallel-item {display: flex;flex-direction: column;z-index: 1;position: relative;background-color: white;}#sk-container-id-1 div.sk-parallel-item:first-child::after {align-self: flex-end;width: 50%;}#sk-container-id-1 div.sk-parallel-item:last-child::after {align-self: flex-start;width: 50%;}#sk-container-id-1 div.sk-parallel-item:only-child::after {width: 0;}#sk-container-id-1 div.sk-dashed-wrapped {border: 1px dashed gray;margin: 0 0.4em 0.5em 0.4em;box-sizing: border-box;padding-bottom: 0.4em;background-color: white;}#sk-container-id-1 div.sk-label label {font-family: monospace;font-weight: bold;display: inline-block;line-height: 1.2em;}#sk-container-id-1 div.sk-label-container {text-align: center;}#sk-container-id-1 div.sk-container {/* jupyter's `normalize.less` sets `[hidden] { display: none; }` but bootstrap.min.css set `[hidden] { display: none !important; }` so we also need the `!important` here to be able to override the default hidden behavior on the sphinx rendered scikit-learn.org. See: https://github.com/scikit-learn/scikit-learn/issues/21755 */display: inline-block !important;position: relative;}#sk-container-id-1 div.sk-text-repr-fallback {display: none;}</style><div id=\"sk-container-id-1\" class=\"sk-top-container\"><div class=\"sk-text-repr-fallback\"><pre>LinearRegression()</pre><b>In a Jupyter environment, please rerun this cell to show the HTML representation or trust the notebook. <br />On GitHub, the HTML representation is unable to render, please try loading this page with nbviewer.org.</b></div><div class=\"sk-container\" hidden><div class=\"sk-item\"><div class=\"sk-estimator sk-toggleable\"><input class=\"sk-toggleable__control sk-hidden--visually\" id=\"sk-estimator-id-1\" type=\"checkbox\" checked><label for=\"sk-estimator-id-1\" class=\"sk-toggleable__label sk-toggleable__label-arrow\">LinearRegression</label><div class=\"sk-toggleable__content\"><pre>LinearRegression()</pre></div></div></div></div></div>"
      ],
      "text/plain": [
       "LinearRegression()"
      ]
     },
     "execution_count": 14,
     "metadata": {},
     "output_type": "execute_result"
    }
   ],
   "source": [
    "# Step 6 : train or fit model\n",
    "model.fit(X_train,y_train)\n"
   ]
  },
  {
   "cell_type": "code",
   "execution_count": 15,
   "id": "14b7d39e",
   "metadata": {
    "execution": {
     "iopub.execute_input": "2023-10-05T11:51:06.471647Z",
     "iopub.status.busy": "2023-10-05T11:51:06.471264Z",
     "iopub.status.idle": "2023-10-05T11:51:06.478324Z",
     "shell.execute_reply": "2023-10-05T11:51:06.477276Z"
    },
    "papermill": {
     "duration": 0.017005,
     "end_time": "2023-10-05T11:51:06.480866",
     "exception": false,
     "start_time": "2023-10-05T11:51:06.463861",
     "status": "completed"
    },
    "tags": []
   },
   "outputs": [
    {
     "data": {
      "text/plain": [
       "-684.4235918478537"
      ]
     },
     "execution_count": 15,
     "metadata": {},
     "output_type": "execute_result"
    }
   ],
   "source": [
    "model.intercept_\n"
   ]
  },
  {
   "cell_type": "code",
   "execution_count": 16,
   "id": "91a7f507",
   "metadata": {
    "execution": {
     "iopub.execute_input": "2023-10-05T11:51:06.493941Z",
     "iopub.status.busy": "2023-10-05T11:51:06.493552Z",
     "iopub.status.idle": "2023-10-05T11:51:06.501290Z",
     "shell.execute_reply": "2023-10-05T11:51:06.499971Z"
    },
    "papermill": {
     "duration": 0.017445,
     "end_time": "2023-10-05T11:51:06.504116",
     "exception": false,
     "start_time": "2023-10-05T11:51:06.486671",
     "status": "completed"
    },
    "tags": []
   },
   "outputs": [
    {
     "data": {
      "text/plain": [
       "array([ 35.19634977,  52.19372157, -37.13869125,  11.2218449 ,\n",
       "        78.11233002, -59.11783139])"
      ]
     },
     "execution_count": 16,
     "metadata": {},
     "output_type": "execute_result"
    }
   ],
   "source": [
    "model.coef_\n"
   ]
  },
  {
   "cell_type": "code",
   "execution_count": 17,
   "id": "41db259a",
   "metadata": {
    "execution": {
     "iopub.execute_input": "2023-10-05T11:51:06.518231Z",
     "iopub.status.busy": "2023-10-05T11:51:06.517829Z",
     "iopub.status.idle": "2023-10-05T11:51:06.525502Z",
     "shell.execute_reply": "2023-10-05T11:51:06.524285Z"
    },
    "papermill": {
     "duration": 0.0174,
     "end_time": "2023-10-05T11:51:06.527664",
     "exception": false,
     "start_time": "2023-10-05T11:51:06.510264",
     "status": "completed"
    },
    "tags": []
   },
   "outputs": [],
   "source": [
    "# Step 7 : predict model\n",
    "y_pred = model.predict(X_test)\n"
   ]
  },
  {
   "cell_type": "code",
   "execution_count": 18,
   "id": "319b2e51",
   "metadata": {
    "execution": {
     "iopub.execute_input": "2023-10-05T11:51:06.541860Z",
     "iopub.status.busy": "2023-10-05T11:51:06.541440Z",
     "iopub.status.idle": "2023-10-05T11:51:06.549585Z",
     "shell.execute_reply": "2023-10-05T11:51:06.548365Z"
    },
    "papermill": {
     "duration": 0.017997,
     "end_time": "2023-10-05T11:51:06.552036",
     "exception": false,
     "start_time": "2023-10-05T11:51:06.534039",
     "status": "completed"
    },
    "tags": []
   },
   "outputs": [
    {
     "data": {
      "text/plain": [
       "array([ 475.93351307,  525.81910195,   77.63275849,  881.10235121,\n",
       "        160.9685664 ,  255.94371856,  361.87029932,  358.87068094,\n",
       "        499.83411068, -150.07834151, -115.91810869,  428.65470115,\n",
       "        114.67533404,  812.51385122,  586.5071178 ,  273.38510858,\n",
       "        579.63900729,  225.18126845,  639.26068037,   85.00820599,\n",
       "        136.92159041,  -87.7778087 ,  629.97231046,  732.63097812,\n",
       "        859.8720695 , -166.76928607,  342.04209934,  722.92198147,\n",
       "        321.44827179,  787.98248357,  486.93194673,  541.89982795,\n",
       "        376.74813045,  624.81211202, -170.11945033,  917.76513801,\n",
       "        792.26439518,  -21.15655005,  300.24921659,  914.07325473,\n",
       "        621.05636286,  934.17373986,  676.85479574,  653.92304403,\n",
       "        615.51226767,  336.61090622,  505.75519147,  -33.53283763])"
      ]
     },
     "execution_count": 18,
     "metadata": {},
     "output_type": "execute_result"
    }
   ],
   "source": [
    "y_pred\n"
   ]
  },
  {
   "cell_type": "code",
   "execution_count": 19,
   "id": "58c17b5c",
   "metadata": {
    "execution": {
     "iopub.execute_input": "2023-10-05T11:51:06.566809Z",
     "iopub.status.busy": "2023-10-05T11:51:06.566423Z",
     "iopub.status.idle": "2023-10-05T11:51:06.571116Z",
     "shell.execute_reply": "2023-10-05T11:51:06.569867Z"
    },
    "papermill": {
     "duration": 0.014907,
     "end_time": "2023-10-05T11:51:06.573337",
     "exception": false,
     "start_time": "2023-10-05T11:51:06.558430",
     "status": "completed"
    },
    "tags": []
   },
   "outputs": [],
   "source": [
    "# Step 8 : model accuracy\n",
    "from sklearn.metrics import mean_absolute_error, r2_score\n"
   ]
  },
  {
   "cell_type": "code",
   "execution_count": 20,
   "id": "c925719a",
   "metadata": {
    "execution": {
     "iopub.execute_input": "2023-10-05T11:51:06.587954Z",
     "iopub.status.busy": "2023-10-05T11:51:06.587518Z",
     "iopub.status.idle": "2023-10-05T11:51:06.594875Z",
     "shell.execute_reply": "2023-10-05T11:51:06.593667Z"
    },
    "papermill": {
     "duration": 0.017123,
     "end_time": "2023-10-05T11:51:06.596980",
     "exception": false,
     "start_time": "2023-10-05T11:51:06.579857",
     "status": "completed"
    },
    "tags": []
   },
   "outputs": [
    {
     "data": {
      "text/plain": [
       "99.58910366731813"
      ]
     },
     "execution_count": 20,
     "metadata": {},
     "output_type": "execute_result"
    }
   ],
   "source": [
    "mean_absolute_error(y_test,y_pred)\n"
   ]
  },
  {
   "cell_type": "code",
   "execution_count": 21,
   "id": "4ef60650",
   "metadata": {
    "execution": {
     "iopub.execute_input": "2023-10-05T11:51:06.611355Z",
     "iopub.status.busy": "2023-10-05T11:51:06.610940Z",
     "iopub.status.idle": "2023-10-05T11:51:06.619627Z",
     "shell.execute_reply": "2023-10-05T11:51:06.618360Z"
    },
    "papermill": {
     "duration": 0.018826,
     "end_time": "2023-10-05T11:51:06.622080",
     "exception": false,
     "start_time": "2023-10-05T11:51:06.603254",
     "status": "completed"
    },
    "tags": []
   },
   "outputs": [
    {
     "data": {
      "text/plain": [
       "0.83982461599445"
      ]
     },
     "execution_count": 21,
     "metadata": {},
     "output_type": "execute_result"
    }
   ],
   "source": [
    "r2_score(y_test,y_pred)\n"
   ]
  },
  {
   "cell_type": "code",
   "execution_count": null,
   "id": "d398cd20",
   "metadata": {
    "papermill": {
     "duration": 0.006144,
     "end_time": "2023-10-05T11:51:06.635152",
     "exception": false,
     "start_time": "2023-10-05T11:51:06.629008",
     "status": "completed"
    },
    "tags": []
   },
   "outputs": [],
   "source": []
  }
 ],
 "metadata": {
  "kernelspec": {
   "display_name": "Python 3",
   "language": "python",
   "name": "python3"
  },
  "language_info": {
   "codemirror_mode": {
    "name": "ipython",
    "version": 3
   },
   "file_extension": ".py",
   "mimetype": "text/x-python",
   "name": "python",
   "nbconvert_exporter": "python",
   "pygments_lexer": "ipython3",
   "version": "3.10.12"
  },
  "papermill": {
   "default_parameters": {},
   "duration": 7.16478,
   "end_time": "2023-10-05T11:51:07.366997",
   "environment_variables": {},
   "exception": null,
   "input_path": "__notebook__.ipynb",
   "output_path": "__notebook__.ipynb",
   "parameters": {},
   "start_time": "2023-10-05T11:51:00.202217",
   "version": "2.4.0"
  }
 },
 "nbformat": 4,
 "nbformat_minor": 5
}
